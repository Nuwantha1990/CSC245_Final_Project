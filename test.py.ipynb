{
 "cells": [
  {
   "cell_type": "raw",
   "source": [],
   "metadata": {
    "collapsed": false
   },
   "id": "36bf9926e475917c"
  },
  {
   "cell_type": "code",
   "execution_count": null,
   "id": "initial_id",
   "metadata": {
    "collapsed": true
   },
   "outputs": [],
   "source": []
  },
  {
   "cell_type": "code",
   "outputs": [
    {
     "name": "stderr",
     "output_type": "stream",
     "text": [
      "[*********************100%%**********************]  1 of 1 completed"
     ]
    },
    {
     "name": "stdout",
     "output_type": "stream",
     "text": [
      "                 Open       High        Low      Close  Adj Close    Volume\n",
      "Date                                                                       \n",
      "2020-01-02  93.750000  94.900497  93.207497  94.900497  94.900497  80580000\n",
      "2020-01-03  93.224998  94.309998  93.224998  93.748497  93.748497  75288000\n",
      "2020-01-06  93.000000  95.184502  93.000000  95.143997  95.143997  81236000\n",
      "2020-01-07  95.224998  95.694504  94.601997  95.343002  95.343002  80898000\n",
      "2020-01-08  94.902000  95.550003  94.321999  94.598503  94.598503  70160000\n"
     ]
    },
    {
     "name": "stderr",
     "output_type": "stream",
     "text": [
      "\n"
     ]
    }
   ],
   "source": [
    "import yfinance as yf\n",
    "import pandas as pd\n",
    "from sklearn.model_selection import train_test_split\n",
    "from sklearn.linear_model import LinearRegression\n",
    "from sklearn.metrics import mean_squared_error\n",
    "\n",
    "# Step 1: Data Collection\n",
    "amazon_data = yf.download('AMZN', start='2020-01-01', end='2024-05-13')\n",
    "# Print the first few rows of the DataFrame\n",
    "print(amazon_data.head())\n"
   ],
   "metadata": {
    "collapsed": false,
    "ExecuteTime": {
     "end_time": "2024-05-14T23:18:13.240146100Z",
     "start_time": "2024-05-14T23:18:08.260357500Z"
    }
   },
   "id": "b5534d7d7eb92387",
   "execution_count": 1
  },
  {
   "cell_type": "code",
   "outputs": [
    {
     "name": "stderr",
     "output_type": "stream",
     "text": [
      "[*********************100%%**********************]  1 of 1 completed"
     ]
    },
    {
     "name": "stdout",
     "output_type": "stream",
     "text": [
      "Data Preprocessed\n"
     ]
    },
    {
     "name": "stderr",
     "output_type": "stream",
     "text": [
      "\n"
     ]
    }
   ],
   "source": [
    "import yfinance as yf\n",
    "import pandas as pd\n",
    "from sklearn.model_selection import train_test_split\n",
    "from sklearn.linear_model import LinearRegression\n",
    "from sklearn.metrics import mean_squared_error\n",
    "\n",
    "# Step 1: Data Collection\n",
    "amazon_data = yf.download('AMZN', start='2020-01-01', end='2024-05-13')\n",
    "\n",
    "# Step 2: Data Preprocessing\n",
    "amazon_data['Previous_Close'] = amazon_data['Close'].shift(1)  # Adding previous day's close as a feature\n",
    "amazon_data.dropna(inplace=True)\n",
    "X = amazon_data[['Previous_Close']]  # Feature\n",
    "y = amazon_data['Close']  # Target\n",
    "\n",
    "print('Data Preprocessed')"
   ],
   "metadata": {
    "collapsed": false,
    "ExecuteTime": {
     "end_time": "2024-05-14T23:20:21.442824100Z",
     "start_time": "2024-05-14T23:20:21.399823900Z"
    }
   },
   "id": "e51b1b2bc6688b5c",
   "execution_count": 4
  },
  {
   "cell_type": "code",
   "outputs": [
    {
     "name": "stderr",
     "output_type": "stream",
     "text": [
      "[*********************100%%**********************]  1 of 1 completed"
     ]
    },
    {
     "name": "stdout",
     "output_type": "stream",
     "text": [
      "Splitting data into training and testing sets\n"
     ]
    },
    {
     "name": "stderr",
     "output_type": "stream",
     "text": [
      "\n"
     ]
    }
   ],
   "source": [
    "import yfinance as yf\n",
    "import pandas as pd\n",
    "from sklearn.model_selection import train_test_split\n",
    "from sklearn.linear_model import LinearRegression\n",
    "from sklearn.metrics import mean_squared_error\n",
    "\n",
    "# Step 1: Data Collection\n",
    "amazon_data = yf.download('AMZN', start='2020-01-01', end='2024-05-13')\n",
    "\n",
    "# Step 2: Data Preprocessing\n",
    "amazon_data['Previous_Close'] = amazon_data['Close'].shift(1)  # Adding previous day's close as a feature\n",
    "amazon_data.dropna(inplace=True)\n",
    "X = amazon_data[['Previous_Close']]  # Feature\n",
    "y = amazon_data['Close']  # Target\n",
    "\n",
    "# Step 3: Splitting the data into training and testing sets\n",
    "X_train, X_test, y_train, y_test = train_test_split(X, y, test_size=0.2, random_state=42)\n",
    "\n",
    "print('Splitting data into training and testing sets')"
   ],
   "metadata": {
    "collapsed": false,
    "ExecuteTime": {
     "end_time": "2024-05-14T23:21:37.951227500Z",
     "start_time": "2024-05-14T23:21:37.912450100Z"
    }
   },
   "id": "b6534700e21bc9d1",
   "execution_count": 5
  },
  {
   "cell_type": "code",
   "outputs": [
    {
     "name": "stderr",
     "output_type": "stream",
     "text": [
      "[*********************100%%**********************]  1 of 1 completed"
     ]
    },
    {
     "name": "stdout",
     "output_type": "stream",
     "text": [
      "Model build and trained\n"
     ]
    },
    {
     "name": "stderr",
     "output_type": "stream",
     "text": [
      "\n"
     ]
    }
   ],
   "source": [
    "import yfinance as yf\n",
    "import pandas as pd\n",
    "from sklearn.model_selection import train_test_split\n",
    "from sklearn.linear_model import LinearRegression\n",
    "from sklearn.metrics import mean_squared_error\n",
    "\n",
    "# Step 1: Data Collection\n",
    "amazon_data = yf.download('AMZN', start='2020-01-01', end='2024-05-13')\n",
    "\n",
    "# Step 2: Data Preprocessing\n",
    "amazon_data['Previous_Close'] = amazon_data['Close'].shift(1)  # Adding previous day's close as a feature\n",
    "amazon_data.dropna(inplace=True)\n",
    "X = amazon_data[['Previous_Close']]  # Feature\n",
    "y = amazon_data['Close']  # Target\n",
    "\n",
    "# Step 3: Splitting the data into training and testing sets\n",
    "X_train, X_test, y_train, y_test = train_test_split(X, y, test_size=0.2, random_state=42)\n",
    "\n",
    "# Step 4 & 5: Model Building and Training\n",
    "model = LinearRegression()\n",
    "model.fit(X_train, y_train)\n",
    "print('Model build and trained')"
   ],
   "metadata": {
    "collapsed": false,
    "ExecuteTime": {
     "end_time": "2024-05-14T23:22:42.150467Z",
     "start_time": "2024-05-14T23:22:42.027885800Z"
    }
   },
   "id": "78136050c63823d",
   "execution_count": 6
  },
  {
   "cell_type": "code",
   "outputs": [
    {
     "name": "stderr",
     "output_type": "stream",
     "text": [
      "[*********************100%%**********************]  1 of 1 completed"
     ]
    },
    {
     "name": "stdout",
     "output_type": "stream",
     "text": [
      "Mean Squared Error: 10.244098659811923\n"
     ]
    },
    {
     "name": "stderr",
     "output_type": "stream",
     "text": [
      "\n"
     ]
    }
   ],
   "source": [
    "import yfinance as yf\n",
    "import pandas as pd\n",
    "from sklearn.model_selection import train_test_split\n",
    "from sklearn.linear_model import LinearRegression\n",
    "from sklearn.metrics import mean_squared_error\n",
    "\n",
    "# Step 1: Data Collection\n",
    "amazon_data = yf.download('AMZN', start='2020-01-01', end='2024-05-13')\n",
    "\n",
    "# Step 2: Data Preprocessing\n",
    "amazon_data['Previous_Close'] = amazon_data['Close'].shift(1)  # Adding previous day's close as a feature\n",
    "amazon_data.dropna(inplace=True)\n",
    "X = amazon_data[['Previous_Close']]  # Feature\n",
    "y = amazon_data['Close']  # Target\n",
    "\n",
    "# Step 3: Splitting the data into training and testing sets\n",
    "X_train, X_test, y_train, y_test = train_test_split(X, y, test_size=0.2, random_state=42)\n",
    "\n",
    "# Step 4 & 5: Model Building and Training\n",
    "model = LinearRegression()\n",
    "model.fit(X_train, y_train)\n",
    "\n",
    "# Step 6: Model Evaluation\n",
    "y_pred = model.predict(X_test)\n",
    "mse = mean_squared_error(y_test, y_pred)\n",
    "print(\"Mean Squared Error:\", mse)\n"
   ],
   "metadata": {
    "collapsed": false,
    "ExecuteTime": {
     "end_time": "2024-05-14T23:23:18.774552100Z",
     "start_time": "2024-05-14T23:23:18.728111700Z"
    }
   },
   "id": "916f1d67f0dd6a06",
   "execution_count": 7
  },
  {
   "cell_type": "code",
   "outputs": [
    {
     "name": "stderr",
     "output_type": "stream",
     "text": [
      "[*********************100%%**********************]  1 of 1 completed"
     ]
    },
    {
     "name": "stdout",
     "output_type": "stream",
     "text": [
      "Mean Squared Error: 10.232083089827645\n",
      "Predicted Amazon stock price for tomorrow: [186.35689201]\n"
     ]
    },
    {
     "name": "stderr",
     "output_type": "stream",
     "text": [
      "\n",
      "C:\\Users\\nuwan\\anaconda3\\Lib\\site-packages\\sklearn\\base.py:464: UserWarning: X does not have valid feature names, but LinearRegression was fitted with feature names\n",
      "  warnings.warn(\n"
     ]
    }
   ],
   "source": [
    "import yfinance as yf\n",
    "import pandas as pd\n",
    "from sklearn.model_selection import train_test_split\n",
    "from sklearn.linear_model import LinearRegression\n",
    "from sklearn.metrics import mean_squared_error\n",
    "\n",
    "# Step 1: Data Collection\n",
    "amazon_data = yf.download('AMZN', start='2020-01-01', end='2024-05-14')\n",
    "\n",
    "# Step 2: Data Preprocessing\n",
    "amazon_data['Previous_Close'] = amazon_data['Close'].shift(1)  # Adding previous day's close as a feature\n",
    "amazon_data.dropna(inplace=True)\n",
    "X = amazon_data[['Previous_Close']]  # Feature\n",
    "y = amazon_data['Close']  # Target\n",
    "\n",
    "# Step 3: Splitting the data into training and testing sets\n",
    "X_train, X_test, y_train, y_test = train_test_split(X, y, test_size=0.2, random_state=42)\n",
    "\n",
    "# Step 4 & 5: Model Building and Training\n",
    "model = LinearRegression()\n",
    "model.fit(X_train, y_train)\n",
    "\n",
    "# Step 6: Model Evaluation\n",
    "y_pred = model.predict(X_test)\n",
    "mse = mean_squared_error(y_test, y_pred)\n",
    "print(\"Mean Squared Error:\", mse)\n",
    "\n",
    "# Step 7: Prediction for tomorrow's Amazon stock price\n",
    "latest_data = amazon_data.tail(1)  # Get the latest data\n",
    "latest_close = latest_data['Close'].values[0]\n",
    "prediction = model.predict([[latest_close]])\n",
    "print(\"Predicted Amazon stock price for tomorrow:\", prediction)"
   ],
   "metadata": {
    "collapsed": false,
    "ExecuteTime": {
     "end_time": "2024-05-14T23:25:22.378886300Z",
     "start_time": "2024-05-14T23:25:21.541573800Z"
    }
   },
   "id": "434affee1199e0d5",
   "execution_count": 10
  },
  {
   "cell_type": "code",
   "outputs": [
    {
     "name": "stderr",
     "output_type": "stream",
     "text": [
      "[*********************100%%**********************]  1 of 1 completed"
     ]
    },
    {
     "name": "stdout",
     "output_type": "stream",
     "text": [
      "Mean Squared Error: 10.232083089827645\n",
      "Predicted Amazon stock price for tomorrow: [186.35689201]\n"
     ]
    },
    {
     "name": "stderr",
     "output_type": "stream",
     "text": [
      "\n",
      "C:\\Users\\nuwan\\anaconda3\\Lib\\site-packages\\sklearn\\base.py:464: UserWarning: X does not have valid feature names, but LinearRegression was fitted with feature names\n",
      "  warnings.warn(\n"
     ]
    }
   ],
   "source": [
    "import yfinance as yf\n",
    "import pandas as pd\n",
    "from sklearn.model_selection import train_test_split\n",
    "from sklearn.linear_model import LinearRegression\n",
    "from sklearn.metrics import mean_squared_error\n",
    "\n",
    "# Step 1: Data Collection\n",
    "amazon_data = yf.download('AMZN', start='2020-01-01', end='2024-05-14')\n",
    "\n",
    "# Step 2: Data Preprocessing\n",
    "amazon_data['Previous_Close'] = amazon_data['Close'].shift(1)  # Adding previous day's close as a feature\n",
    "amazon_data.dropna(inplace=True)\n",
    "X = amazon_data[['Previous_Close']]  # Feature\n",
    "y = amazon_data['Close']  # Target\n",
    "\n",
    "# Step 3: Splitting the data into training and testing sets\n",
    "X_train, X_test, y_train, y_test = train_test_split(X, y, test_size=0.2, random_state=42)\n",
    "\n",
    "# Step 4 & 5: Model Building and Training\n",
    "model = LinearRegression()\n",
    "model.fit(X_train, y_train)\n",
    "\n",
    "# Step 6: Model Evaluation\n",
    "y_pred = model.predict(X_test)\n",
    "mse = mean_squared_error(y_test, y_pred)\n",
    "print(\"Mean Squared Error:\", mse)\n",
    "\n",
    "# Step 7: Prediction for tomorrow's Amazon stock price\n",
    "latest_data = amazon_data.tail(1)  # Get the latest data\n",
    "latest_close = latest_data['Close'].values[0]\n",
    "prediction = model.predict([[latest_close]])\n",
    "print(\"Predicted Amazon stock price for tomorrow:\", prediction)\n",
    "\n",
    "# Writing the result to an Excel sheet\n",
    "result_df = pd.DataFrame({'Predicted_Price': prediction})\n",
    "result_df.to_excel('predicted_stock_price.xlsx', index=False)"
   ],
   "metadata": {
    "collapsed": false,
    "ExecuteTime": {
     "end_time": "2024-05-14T23:26:59.692974200Z",
     "start_time": "2024-05-14T23:26:59.617849800Z"
    }
   },
   "id": "da38be4f80f5ba6e",
   "execution_count": 11
  },
  {
   "cell_type": "code",
   "outputs": [],
   "source": [],
   "metadata": {
    "collapsed": false
   },
   "id": "fd6c33e99624bc6f"
  }
 ],
 "metadata": {
  "kernelspec": {
   "display_name": "Python 3",
   "language": "python",
   "name": "python3"
  },
  "language_info": {
   "codemirror_mode": {
    "name": "ipython",
    "version": 2
   },
   "file_extension": ".py",
   "mimetype": "text/x-python",
   "name": "python",
   "nbconvert_exporter": "python",
   "pygments_lexer": "ipython2",
   "version": "2.7.6"
  }
 },
 "nbformat": 4,
 "nbformat_minor": 5
}
